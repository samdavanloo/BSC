{
 "cells": [
  {
   "cell_type": "code",
   "execution_count": 29,
   "metadata": {},
   "outputs": [],
   "source": [
    "\"\"\" Experiment of SoR compositional problem\n",
    "\n",
    "\"\"\"\n",
    "\n",
    "# %% Library\n",
    "\n",
    "import numpy as np\n",
    "import matplotlib.pyplot as plt\n",
    "\n",
    "# owned\n",
    "from Algorithms import Bregman_SoR\n",
    "\n",
    "\n",
    "\n",
    "# %% Parameters\n",
    "d = 50  # dimension of matrix\n",
    "n = 1000  # number of random matrix\n",
    "lmbda = 1  # weight of var part\n",
    "R = 10  # constraint norm(x) <= R\n",
    "Lf = 2*lmbda\n",
    "Lg = 1\n",
    "tau = min(0.5, Lf/(Lf+8), 1/Lf) / 2\n",
    "beta = Lf * tau\n",
    "\n",
    "batch_size = 500\n",
    "max_iter = 50\n",
    "\n",
    "# %% Generate matrix\n",
    "np.random.seed(10)\n",
    "A_avg = np.random.randn(d, d)\n",
    "A_avg = (A_avg+A_avg.T)/2\n",
    "noise = np.random.randn(d, d, n)\n",
    "A = np.tile(A_avg[:, :, np.newaxis], (1, 1, n)) + \\\n",
    "    1*(noise+np.swapaxes(noise, 0, 1))/2    # make sure A are all symmetric\n",
    "\n",
    "A_avg = A.mean(axis=2)  # Mean of matrix A based on the generated data\n",
    "\n",
    "A_avg_norm = np.linalg.norm(A_avg, 2)\n",
    "A_norm2_avg = np.mean(np.linalg.norm(A,axis=(0,1),ord = 2)**2) #calculate (E[|A_xi|^2])\n",
    "\n",
    "\n",
    "x_init = np.random.randn(d)\n",
    "x_init = x_init/np.linalg.norm(x_init)*R  # initial point\n",
    "\n"
   ]
  },
  {
   "cell_type": "code",
   "execution_count": 33,
   "metadata": {},
   "outputs": [
    {
     "data": {
      "text/plain": [
       "31.622776601683793"
      ]
     },
     "execution_count": 33,
     "metadata": {},
     "output_type": "execute_result"
    }
   ],
   "source": [
    "\n",
    "# coefs in generating function h(x); coef of norm(x)^2\n",
    "c1_grid = np.logspace(-3, 3, num=9)\n",
    "c2_grid = np.logspace(-6, -2, num=9)\n"
   ]
  },
  {
   "cell_type": "code",
   "execution_count": 31,
   "metadata": {},
   "outputs": [],
   "source": [
    "\n",
    "\n",
    "\n",
    "for i in range(len(c1_grid)):\n",
    "    for j in range(len(c2_grid)):\n",
    "        k1 = c1_grid[i] + c2_grid[j] * A_avg_norm\n",
    "        k2 = 3 * c2_grid[j] * A_norm2_avg\n",
    "        Breg_SoR = Bregman_SoR(A, batch_size, x_init, k1, k2, tau, beta, max_iter, R, lmbda)\n",
    "        Breg_SoR.train()\n",
    "        Breg_SoR.plot() \n",
    "\n",
    "        filename = f\"Results/SoR_grid_search_i{i}_j{j}.pdf\"\n",
    "        plt.savefig(filename)\n",
    "        plt.close()\n",
    "\n"
   ]
  }
 ],
 "metadata": {
  "kernelspec": {
   "display_name": "Python 3.10.6 ('env_Composition')",
   "language": "python",
   "name": "python3"
  },
  "language_info": {
   "codemirror_mode": {
    "name": "ipython",
    "version": 3
   },
   "file_extension": ".py",
   "mimetype": "text/x-python",
   "name": "python",
   "nbconvert_exporter": "python",
   "pygments_lexer": "ipython3",
   "version": "3.10.6"
  },
  "orig_nbformat": 4,
  "vscode": {
   "interpreter": {
    "hash": "c9695c5972d933cb2687abffd3c8d4ba9f4d59953dbc9519feb511029b9a98e9"
   }
  }
 },
 "nbformat": 4,
 "nbformat_minor": 2
}
